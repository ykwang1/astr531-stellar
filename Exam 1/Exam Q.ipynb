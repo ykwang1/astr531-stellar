{
 "cells": [
  {
   "cell_type": "code",
   "execution_count": 1,
   "id": "7140b942",
   "metadata": {},
   "outputs": [],
   "source": [
    "from astropy.constants import L_sun, M_sun, R_sun, G\n",
    "import astropy.units as u"
   ]
  },
  {
   "cell_type": "markdown",
   "id": "38b809a7",
   "metadata": {},
   "source": [
    "# Q1\n",
    "### In the 2007 science fiction thriller *Sunshine*, cessation of core fusion in the sun in the year 2057 is freezing the Earth. To remedy this, a crew of astronauts must deliver a large nuclear payload to the sun to restart fusion. There are a number of issues with this premise:\n",
    "\n",
    "##### (a)  For 1 $M_\\odot$ stars explain the expected end of MS lifetime behavior. Why doesn't a global cooling scenario make sense?\n",
    "When the sun stops fusing hydrogen in its core, we would expect the core to contract and heat up because the inward force of gravity is no longer balanced by the thermal pressure from fusion. This would lead to an increase in the luminosity of the sun. Furthermore for stars of around 1 solar mass, the core is not convective and its chemical profile is not mixed, and we expect that the contraction and transition to helium fusion would be gradual as well, meaning that the change in luminosity and energy flux would be gradual.\n",
    "\n",
    "##### (b) Using arguments relating to hydrostatic equilibrium, explain why temporarily raising part of the surface of the sun to the temperature needed for hydrogen fusion wouldn't lead to sustained fusion.\n",
    "Suppose that the surface of the sun were temporarily raised to the temperature required for fusion. While fusion might occur for a short time, the gravity at the surface would not balance the sudden increase of outward thermal pressure, and the gas would expand rapidly and quickly cool below the temperature needed for fusion. Sustained fusion can occur only when the star is in hydrostatic equilibrium, when gravity compresses the gas to maintain the temperatures and densities needed for fusion.\n",
    "\n",
    "##### (c) Events in the movie occur 50 years after release. If fusion really were to suddenly stop in the core, would we expect the luminosity of the sun to change appreciably over that time? What other observables might we expect to change? For the sun, $\\tau_{dyn}$ and $\\tau_{KH}$ are about 30 minutes and 30,000 years respectively.\n",
    "If the sun stopped producing energy and could only radiate its internal energy, 50 years would still be too short a time for inhabitants of earth to notice. Compared to the Kelvin-Helmholtz timescale, 50 years corresponds to about 1/1000 th or 0.1%. Thus the decrease in lumniosity over 50 years would probably have no noticeable impacts on Earth's climate. The short dynamical timescale means that if the sun were really to stop all fusion (including shell fusion) the contraction of the sun would be noticeable in a very short amount of time.\n",
    "\n",
    "\n",
    "$$\n",
    "$$\n",
    " \n",
    "\n",
    "***Extra credit:*** *Here's an idea for a (similarly flawed) sci-fi movie: The sun is no longer producing energy, but humans have the ability to perturb the orbits of solar system objects and induce them to fall into the sun. Assuming that the combined mass of solar system objects minus earth is about 2x10^30g, what is an order of magnitude estimate of the \"Solar system gravitational potential lifetime\" of the sun? Compare this to $\\tau_{dyn}$ and $\\tau_{KH}$ and comment on anything you might find interesting!*\n",
    "\n",
    "The gravitational potential energy of solar system objects is $-\\frac{GM_\\odot m}{r}\\Big|_{R_{obj}}^{R_\\odot}$. Because $R_{obj} >> R_\\odot$ for basically all objects, we will approximate the gravitational potential energy as $\\frac{GM_\\odot m}{R_\\odot}$. Dividing by $L_\\odot$ to get the timescale: \n",
    "$$\\tau_{GPSS} \\approx \\frac{GM_\\odot m}{R_\\odot L} \\\\\n",
    "\\tau_{GPSS} \\approx 31,600\\,yrs$$\n",
    "Coincidentally, is almost the same as the thermal time scale!\n",
    "\n"
   ]
  },
  {
   "cell_type": "code",
   "execution_count": 2,
   "id": "dda57042",
   "metadata": {},
   "outputs": [
    {
     "data": {
      "text/latex": [
       "$31582.298 \\; \\mathrm{yr}$"
      ],
      "text/plain": [
       "<Quantity 31582.29822225 yr>"
      ]
     },
     "execution_count": 2,
     "metadata": {},
     "output_type": "execute_result"
    }
   ],
   "source": [
    "(G * M_sun * (2 * 10 ** 30 * u.g) / (R_sun * L_sun)).to(u.yr)"
   ]
  }
 ],
 "metadata": {
  "kernelspec": {
   "display_name": "Python 3 (ipykernel)",
   "language": "python",
   "name": "python3"
  },
  "language_info": {
   "codemirror_mode": {
    "name": "ipython",
    "version": 3
   },
   "file_extension": ".py",
   "mimetype": "text/x-python",
   "name": "python",
   "nbconvert_exporter": "python",
   "pygments_lexer": "ipython3",
   "version": "3.9.7"
  }
 },
 "nbformat": 4,
 "nbformat_minor": 5
}
